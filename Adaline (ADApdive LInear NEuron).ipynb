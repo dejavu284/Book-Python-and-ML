{
 "cells": [
  {
   "cell_type": "code",
   "execution_count": 2,
   "id": "f17183a7",
   "metadata": {
    "ExecuteTime": {
     "end_time": "2023-03-04T11:12:04.369042Z",
     "start_time": "2023-03-04T11:12:04.351046Z"
    }
   },
   "outputs": [],
   "source": [
    "import numpy as np\n",
    "import matplotlib.pyplot as plt\n"
   ]
  },
  {
   "cell_type": "code",
   "execution_count": 7,
   "id": "a274b908",
   "metadata": {
    "ExecuteTime": {
     "end_time": "2023-03-04T12:59:19.477818Z",
     "start_time": "2023-03-04T12:59:19.460809Z"
    }
   },
   "outputs": [],
   "source": [
    "class AdalineGD(object):\n",
    "    \"\"\"Классификатор на основе адаптивного линейного нейрона\n",
    "    Параметры\n",
    "    ---------\n",
    "    eta : float\n",
    "      Скорость обучения - learning rate, от 0 до 1.\n",
    "    n_iter : int\n",
    "      Количество итераций обучения, эпох.\n",
    "    random_state : int\n",
    "      Начальное значение гениратора случайных чисел\n",
    "      для инициализации случайными весами.\n",
    "    Атрибуты\n",
    "    --------\n",
    "    w_ : одномерный массив\n",
    "      Веса после подгонки.\n",
    "    cost_ : список\n",
    "      Функция издержек на основе суммы квадратов отклонений\n",
    "      в каждой эпохе\n",
    "    \"\"\"\n",
    "    def __init__(self, eta=0.01, n_iter=50, random_state=1):\n",
    "        self.eta = eta\n",
    "        self.n_iter = n_iter\n",
    "        self.random_state = random_state\n",
    "    \n",
    "    \n",
    "    def fit(self, X, y):\n",
    "        \"\"\"Подгоняет к обучающим данным (алгоритм учится на данных)\n",
    "        Параметры\n",
    "        ---------\n",
    "        X: массив, форма = (n_examples, n_features)\n",
    "          Обучающие векторы, где n_examples - количество объектов,\n",
    "          n_features - количество признаков, фичей.\n",
    "        y: массив, форма = (n_targets)\n",
    "          Целевые значения.\n",
    "          \n",
    "        Возвращает\n",
    "        ----------\n",
    "        self : object\n",
    "        \"\"\"\n",
    "        rgen = np.random.RandomState(self.random_state)\n",
    "        self.w_ = rgen.normal(loc=0.0, scale=0.01, size = 1 + X.shape[1])\n",
    "        self.cost_ = []\n",
    "        \n",
    "        for i in range(self.n_iter):\n",
    "            net_input = self.net_input(X)\n",
    "            output = self.activation(net_input)\n",
    "            errors = (y-output)\n",
    "            self.w_[1:] += self.eta * X.T.dot(errors)\n",
    "            self.w_[0] += self.eta * errors.sum()\n",
    "            cost = (errors**2).sum()/2\n",
    "            self.cost_.append(cost)\n",
    "        return self\n",
    "    def net_input(self, X):\n",
    "        \"\"\"Вычисляет общий вход\"\"\"\n",
    "        return np.dot(X, self.w_[1:]) + self.w_[0]\n",
    "    def activation(self, X):\n",
    "        \"\"\"Вычисляет линейную активацию\"\"\"\n",
    "        return X\n",
    "    def predict(self, X):\n",
    "        \"\"\"Возвращает метку класса после единичного шага\"\"\"\n",
    "        return np.where(self.activation(self.net_input(X)) >= 0.0, 1, -1)"
   ]
  },
  {
   "cell_type": "code",
   "execution_count": null,
   "id": "0540ee8d",
   "metadata": {},
   "outputs": [],
   "source": []
  }
 ],
 "metadata": {
  "kernelspec": {
   "display_name": "Python 3 (ipykernel)",
   "language": "python",
   "name": "python3"
  },
  "language_info": {
   "codemirror_mode": {
    "name": "ipython",
    "version": 3
   },
   "file_extension": ".py",
   "mimetype": "text/x-python",
   "name": "python",
   "nbconvert_exporter": "python",
   "pygments_lexer": "ipython3",
   "version": "3.10.8"
  },
  "nbTranslate": {
   "displayLangs": [
    "fr",
    "en"
   ],
   "hotkey": "alt-t",
   "langInMainMenu": true,
   "sourceLang": "en",
   "targetLang": "fr",
   "useGoogleTranslate": true
  },
  "toc": {
   "base_numbering": 1,
   "nav_menu": {},
   "number_sections": true,
   "sideBar": true,
   "skip_h1_title": false,
   "title_cell": "Table of Contents",
   "title_sidebar": "Contents",
   "toc_cell": false,
   "toc_position": {},
   "toc_section_display": true,
   "toc_window_display": false
  }
 },
 "nbformat": 4,
 "nbformat_minor": 5
}
